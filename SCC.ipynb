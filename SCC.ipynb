{
  "nbformat": 4,
  "nbformat_minor": 0,
  "metadata": {
    "colab": {
      "name": "SCC.ipynb",
      "provenance": [],
      "include_colab_link": true
    },
    "kernelspec": {
      "name": "python3",
      "display_name": "Python 3"
    }
  },
  "cells": [
    {
      "cell_type": "markdown",
      "metadata": {
        "id": "view-in-github",
        "colab_type": "text"
      },
      "source": [
        "<a href=\"https://colab.research.google.com/github/Chrysheight/Desafio_6/blob/main/SCC.ipynb\" target=\"_parent\"><img src=\"https://colab.research.google.com/assets/colab-badge.svg\" alt=\"Open In Colab\"/></a>"
      ]
    },
    {
      "cell_type": "code",
      "metadata": {
        "id": "3uEOYc2Cjv8C"
      },
      "source": [
        "from collections import defaultdict \n",
        "\n",
        "class Graph: \n",
        "    def __init__(self,vertices): \n",
        "        self.V= vertices\n",
        "        self.graph = defaultdict(list) \n",
        "   \n",
        "    def addEdge(self,u,v): \n",
        "        self.graph[u].append(v) \n",
        "   \n",
        "    def DFSUtil(self,v,visited): \n",
        "        visited[v]= True\n",
        "        print(v)\n",
        "        for i in self.graph[v]: \n",
        "            if visited[i]==False: \n",
        "                self.DFSUtil(i,visited) \n",
        "  \n",
        "    def fillOrder(self,v,visited, stack):\n",
        "        visited[v]= True\n",
        "        for i in self.graph[v]: \n",
        "            if visited[i]==False: \n",
        "                self.fillOrder(i, visited, stack) \n",
        "        stack = stack.append(v) \n",
        "      \n",
        "    def getTranspose(self): \n",
        "        g = Graph(self.V) \n",
        "        for i in self.graph: \n",
        "            for j in self.graph[i]: \n",
        "                g.addEdge(j,i) \n",
        "        return g\n",
        "\n",
        "    def printSCCs(self): \n",
        "        stack = [] \n",
        "        visited =[False]*(self.V) \n",
        "        for i in range(self.V): \n",
        "          if visited[i]==False: \n",
        "            self.fillOrder(i, visited, stack) \n",
        "\n",
        "        gr = self.getTranspose() \n",
        "\n",
        "        visited =[False]*(self.V) \n",
        " \n",
        "        while stack: \n",
        "          i = stack.pop() \n",
        "          if visited[i]==False: \n",
        "            gr.DFSUtil(i, visited) \n",
        "            print(\"\") "
      ],
      "execution_count": null,
      "outputs": []
    },
    {
      "cell_type": "code",
      "metadata": {
        "colab": {
          "base_uri": "https://localhost:8080/"
        },
        "id": "5j21pkZ0pjwn",
        "outputId": "a2fd6f5c-d982-4c33-fab4-4f634938b5e1"
      },
      "source": [
        "g = Graph(16) \n",
        "g.addEdge(0,2) \n",
        "g.addEdge(2,1)\n",
        "g.addEdge(1,0)\n",
        "g.addEdge(3,2)\n",
        "g.addEdge(2,4)\n",
        "g.addEdge(4,3)\n",
        "g.addEdge(1,5)\n",
        "g.addEdge(4,5)\n",
        "g.addEdge(5,6)\n",
        "g.addEdge(5,8)\n",
        "g.addEdge(6,7)\n",
        "g.addEdge(7,8)\n",
        "g.addEdge(8,6)\n",
        "g.addEdge(8,9)\n",
        "g.addEdge(7,9)\n",
        "g.addEdge(10,9)\n",
        "g.addEdge(10,11)\n",
        "g.addEdge(11,10)\n",
        "g.addEdge(5,10)\n",
        "g.addEdge(12,13) \n",
        "print (\"Following are strongly connected components \" +\n",
        "                           \"in given graph\") \n",
        "g.printSCCs() "
      ],
      "execution_count": null,
      "outputs": [
        {
          "output_type": "stream",
          "text": [
            "Following are strongly connected components in given graph\n",
            "15\n",
            "\n",
            "14\n",
            "\n",
            "12\n",
            "\n",
            "13\n",
            "\n",
            "0\n",
            "1\n",
            "2\n",
            "3\n",
            "4\n",
            "\n",
            "5\n",
            "\n",
            "10\n",
            "11\n",
            "\n",
            "6\n",
            "8\n",
            "7\n",
            "\n",
            "9\n",
            "\n"
          ],
          "name": "stdout"
        }
      ]
    },
    {
      "cell_type": "code",
      "metadata": {
        "id": "D3Swebfqp6NS"
      },
      "source": [
        ""
      ],
      "execution_count": null,
      "outputs": []
    }
  ]
}